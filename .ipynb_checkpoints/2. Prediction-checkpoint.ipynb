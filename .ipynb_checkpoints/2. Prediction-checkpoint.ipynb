{
 "cells": [
  {
   "cell_type": "markdown",
   "metadata": {},
   "source": [
    "# input"
   ]
  },
  {
   "cell_type": "code",
   "execution_count": 1,
   "metadata": {},
   "outputs": [],
   "source": [
    "search_term=[\"경제 호재\"]\n",
    "output_file=\"prediction.csv\"\n",
    "input_path=\"[이 파일이 있는 경로]\""
   ]
  },
  {
   "cell_type": "markdown",
   "metadata": {},
   "source": [
    "# import"
   ]
  },
  {
   "cell_type": "code",
   "execution_count": 2,
   "metadata": {},
   "outputs": [],
   "source": [
    "import requests\n",
    "import json\n",
    "import pandas as pd\n",
    "import csv\n",
    "import glob\n",
    "import os\n",
    "import sys\n",
    "from IPython.display import HTML\n",
    "\n",
    "from azure.ai.textanalytics import TextAnalyticsClient\n",
    "from azure.core.credentials import AzureKeyCredential"
   ]
  },
  {
   "cell_type": "markdown",
   "metadata": {},
   "source": [
    "# 기사 텍스트 추출"
   ]
  },
  {
   "cell_type": "code",
   "execution_count": 3,
   "metadata": {},
   "outputs": [],
   "source": [
    "# (Bing news Search)애플리케이션 생성 및 초기화\n",
    "subscription_key = \"[Bing News Search key]\"\n",
    "search_url = \"https://api.bing.microsoft.com/v7.0/news/search?q=sailing&count=40\"\n",
    "\n",
    "# (Text_Analisis)클라이언트 인증\n",
    "key = \"[Text Analitics key]\"\n",
    "endpoint = \"https://textanalysis-2.cognitiveservices.azure.com/\"\n",
    "\n",
    "def authenticate_client():\n",
    "    ta_credential = AzureKeyCredential(key)\n",
    "    text_analytics_client = TextAnalyticsClient(\n",
    "            endpoint=endpoint, \n",
    "            credential=ta_credential)\n",
    "    return text_analytics_client\n",
    "\n",
    "client = authenticate_client()"
   ]
  },
  {
   "cell_type": "code",
   "execution_count": 4,
   "metadata": {},
   "outputs": [],
   "source": [
    "def entity_recognition_example(client):\n",
    "\n",
    "    try:\n",
    "        documents = [\"\"]\n",
    "        documents[0]+=rows1\n",
    "        result1 = client.recognize_entities(documents = documents, language=\"ko\")[0]\n",
    "        \n",
    "        documents = [\"\"]\n",
    "        documents[0]+=rows2\n",
    "        result2 = client.recognize_entities(documents = documents, language=\"ko\")[0]\n",
    "\n",
    "        for entity in result1.entities:\n",
    "            EntityList.append(entity.text)\n",
    "            \n",
    "        for entity in result2.entities:\n",
    "            EntityList.append(entity.text)\n",
    "            \n",
    "    except Exception as err:\n",
    "        print(\"Encountered exception. {}\".format(err))"
   ]
  },
  {
   "cell_type": "code",
   "execution_count": 5,
   "metadata": {
    "scrolled": true
   },
   "outputs": [
    {
     "data": {
      "text/html": [
       "<table><tr><td>현대엘리베이터가 전반적인 수익성을 개선할 것으로 예상된다. 지난해 하반기부터 주택건설 및 승강기 신규 설치량 증가세로 전환된 데 이어 정부 주택공급 확대 정책의 수혜를 입을 것이라는 분석이다. 31일 NH투자증권은 이 같은 배경에 현대엘리베이터의 투자의견 &#39;매수&#39;를 유지하고 목표가를 6만8000원으로 21.4% 상향했다. 전거래일 종가는 5만3500원이었다</td></tr>\n",
       "<tr><td>3기 신도시 중 최대 규모인 경기 남양주 왕숙신도시에 지하철 9호선이 연장된다. 서울 강일동과 하남을 거치는 노선으로 2028년 개통이 목표다. 이에 발 빠른 투자자들은 남양주의 수년 뒤 미래가치를 내다보고 있다. 부동산 전문가들은 “9호선이 연장되면 왕숙신도시는 물론 인근 남양주 다산 지금지구까지 지역 부동산 가치가 확 뛸 것”이라고 입을 모은다. 9호선</td></tr>\n",
       "<tr><td>서울 용산에서 진행 중인 굵직한 개발 프로젝트들이 잇따라 속도를 내고 있다. 30일 서울시에 따르면 시는 내달 중 용산 유엔사 부지를 건축위원회 심의에 상정할 방침이다. 시 관계자는 “심의 상정을 위한 준비가 거의 다 끝났다”며 “오는 6월 중 심의를 요청할 계획”이라고 말했다. 용산구 이태원동 유엔사 부지는 용산공원과 이태원을 연결하는 완충지이자 용산공원</td></tr>\n",
       "<tr><td>기타리스트 겸 싱어송라이터 이상순이 첫 솔로 EP ‘이상순(Leesangsoon)’를 발표한다. 이상순은 오는 6월 4일 각종 온라인 음원 사이트를 통해 본인의 이름을 타이틀로 한 EP ‘이상순’을 발매할 예정이다. 이번 앨범은 디지털 싱글을 제외하면 이상순의 솔로 명의로 발표하는 첫 앨범이다. 2001년 김동률과 함께한 베란다 프로젝트의 ‘데이 오프(Da</td></tr>\n",
       "<tr><td>다음주(5월 31일~6월 4일) 국내 증시는 호재와 악재 간 힘겨루기 과정에서 일시적인 변동성이 동반되겠다.30일 한국거래소에 따르면 지난주(5월 24~28일) 국내 증시는 하락세로 시작해 상승 마감에 성공했다. 종가 기준 코스피지수는 24일 전 거래일 대비 12.12포인트(-0.38%) 떨어진 3144.30에 한 주를 시작해 등락을 거듭하다 28일 23.</td></tr>\n",
       "<tr><td>일부 알트코인이 특별한 호재 없이 폭등하는 현상이 벌어지고 있다. 일부 코인은 하루 만에 100~300% 크게 올랐다. 21일 가상화폐 거래소 업비트에 따르면 오후 3시 35분 현재 센티넬프로토콜은 전날보다 140% 상승한 300원에 거래되고 있다. 센티넬프로토콜은 전날 저점(100원)과 비교하면 이날 한때 386원으로 286% 치솟았다. 엘비알와이크레딧도</td></tr>\n",
       "<tr><td>[서울경제TV=김수빈기자]대신증권은 20일 LS전선아시아(229640)에 대해 “구리 가격 상승을 통한 반사이익이 발생하고 해저케이블의 신성장 요인이 부각되는 등의 호재가 많다”며 투자의견은 매수로, 목표주가는 1..</td></tr>\n",
       "<tr><td>이란 대통령 &quot;비트코인 불법 채굴로 국가 전력난&quot; &quot;향후 4개월, 9월22일까지 코인 채굴 전면 금지&quot; 블랙록 &quot;암호화폐 투자 가능한 자산인지 검토 중&quot; 가상(암호)화폐 시장이 악재와 호재의 동시 등장에 명확한 방향성을 찾지 못하고 있다. 중국, 미국, 이란 등 각국 정부가 암호화폐에 대한 규제 강도를 높이는 사이 대규모 자산운용사들은 암호화폐에 대한 투자</td></tr>\n",
       "<tr><td>테슬라에 대한 세가지 우려를 자세히 살펴보자. 먼저 중국시장에 대한 우려는 2021년 초부터 제기되었다. 중국정부는 정보보안을 이유로 테슬라 차량의 군사지역 출입을 금지 시켰다. 테슬라는 상하이에 데이터센터를 설립하고, 중국 밖으로 데이터가 나가지 않을 것 임을 약속했지만, 자율주행 기술은 자국업체를 중심으로 발전할 수 밖에 없음을 보여주는 계기가 되었다.</td></tr>\n",
       "<tr><td>권덕철 보건복지부 장관과 정의용 외교부 장관, 문승욱 산업통상자원부 장관(오른쪽부터)이 25일 정부서울청사 별관 외교부 브리핑룸에서 열린 한미 정상회담 결과 정부합동 온라인 브리핑을 마친 뒤 포즈를 취하고 있다. 외교부 제공. 문승욱 산업통상자원부 장관은 25일 &quot;이번 한미 정상회담에서 논의한 어젠다는 특정국과 관련된 사안은 아니다&quot;라며 &quot;중국은 우리 수출</td></tr>\n",
       "<tr><td>[현대경제신문 정유라 기자] 대우건설은 다음달 대구광역시 동구 용계동에 ‘용계역 푸르지오 아츠베르’를 분양한다고 18일 밝혔다. 용계동 도시개발사업으로 추진되는 해당 단지는 A1·A2블록 2개 단지로 조성된다. 지하 2층~지상 15층, 총 21개 동, 전용 59㎡~99㎡ 총 1천313가구 규모다. 용계역 푸르지오 아츠베르는 인근 율하 권역 내 신규 분양 단</td></tr>\n",
       "<tr><td>세종시는 투기 등 불법 행위가 의심되는 농지 816필지의 이용 실태를 조사한 결과 144필지(17.6%)에서 불법 행위가 확인됐다고 24일 밝혔다. 세종시는 지난달 1일부터 이달 14일까지 연기·연서·금남·전의 등 개발 호재가 있다고 판단되는 4개 면 농지 중 소유자가 지역 외 거주자이거나 위성사진 등을 통해 불법 행위가 의심되는 농지 816필지를 대상으로</td></tr>\n",
       "<tr><td>◆ 가상화폐 규제 칼뺀 美 ◆일부 알트코인이 특별한 호재 없이 폭등하는 현상이 벌어지고 있다. 일부 코인은 하루 만에 100~300% 크게 올랐다. 21일 가상화폐 거래소 업비트에 따르면 오후 3시 35분 현재 센티넬프로토콜은 전날보다 140% 상</td></tr>\n",
       "<tr><td>&quot;2명만 추첨합니다&quot; 서울 영등포구 신길동 보라매SK뷰 아파트 2가구가 새 주인을 찾는다. 신길5재정비촉진구역 주택재개발정비사업조합은 지난 24일 보라매SK뷰 아파트 전용 84㎡ 계약취소분 2가구 입주자를 찾는다고 밝혔다. 2가구 분양가는 각각 13억3000만원이다. 분양 신청은 오는 31일 오후 2시부터 오후 4시까지 하면 된다. 당첨자는 같은 날 오후</td></tr>\n",
       "<tr><td>GTX-D 노선의 강남 직결이 무산되면서 경기도 김포시 아파트값이 상승세를 끝내고 매도물량이 늘어나는 모양새다. 16일 한국부동산원 주간 아파트가격동향조사(5월2주)에 따르면 김포시 아파트 매매가격 상승률은 전주 대비 0.01%를 기록했다. 같은 시기 경기 고양시는 0.19%, 남양주시도 0.27% 상승했다. 전국 평균 상승률 0.23%, 수도권 0.27%</td></tr>\n",
       "<tr><td>미국의 일본여행 금지 권고가 도쿄올림픽 불참 가능성으로 확산되자 미 백악관과 국무부가 선수단 파견에 변화가 없다며 서둘러 진화했다. 하지만 일본 안팎에서 2개월 앞둔 도쿄올림픽의 정상 개최에 대한 우려의 목소리가 커지고 있다. 미국 백악관의 젠 사키 대변인은 25일(현지시간) 언론 브리핑에서 전날 일본에 대한 여행경보를 3단계인 &#39;여행재고&#39;에서 최고 단계인</td></tr>\n",
       "<tr><td>21일 현지시각 미국에서 열리는 한미 정상회담을 앞두고 증시도 호재를 기다리고 있다. 코로나19 백신과 반도체, 배터리 협력 논의가 예상되는 만큼 관련주 향방에 관심이 쏠린다.아직 증시는 별로 반응하지 않고 있다. 문재인 대통령 방미에 동행한 삼성·현대차·SK·LG그룹 등 국내 4대 그룹주도 이렇다 할 움직임은 없다. 이미 호재는 선반영된 만큼 주가는 주말</td></tr>\n",
       "<tr><td>현대ENG의 상장이 예정되어 있습니다. IPO 밸류로 10 조원가량이 언급되고 있네요. 설사 이 10 조원을 충족하지 못하더라도 이번 이슈는 건설업에 호재입니다. 마치 쿠팡이 100 조원에 상장을 하자 국내 이커머스 기업들의 재평가가 있었던 것 처럼요. 더불어 DL E&amp;C 도 지배구조 개편의 마무리 작업을 앞두고 있습니다.</td></tr>\n",
       "<tr><td>[서울=뉴시스] 홍세희 기자 = 인천의 집값 상승률이 고공행진 중이다. 수도권광역급행철도(GTX) 등 교통호재가 있는 지역들이 집값 상승을 이끄는 가운데 탈(脫)서울 내 집 마련 수요가 이를 뒷받침하면서 높은 상승률을 이어가고 있다. 또 2기 신도시인 검단신도시와 3기 신도시인 계양신도시 등 신도시 개발에 따른 기대감도 반영됐다는 분석이다. 22일 부동산1</td></tr>\n",
       "<tr><td>(서울=뉴스1) 신기림 기자 = 뉴욕 증시가 지수별 혼조세로 마감됐다. 다우 지수는 제조업황 호조에 상승했지만 스탠다드앤푸어스(S&amp;P)500은 장중 상승분을 모두 반납하고 거의 변동없지만 미미하게 내려 약보합으로 마감됐다. 기술주 중심의 나스닥은 비트코인 하락압박에 하락했다. ◇다우 오르고 S&amp;P-나스닥 내리고 21일(현지시간) 다우 지수는 전장 대비 12</td></tr>\n",
       "<tr><td>두산건설은 17일부터 ‘두산 위브더제니스 양산’ 청약 접수를 진행한다. 이 단지는 경남 양산시 상북면 석계리 일대에 짓는 아파트로 지하 2층~최고 30층, 총 10개 동, 아파트 1368가구 규모로 들어선다. 전용면적별 가구 수는 △59A㎡ 337가구 △59B㎡ 158가구 △59C㎡ 179가구 △84A㎡ 526가구 △84B㎡ 84가구 △84C㎡ 84가구 등</td></tr>\n",
       "<tr><td>[e대한경제=이근우 기자]현대자동차의 중ㆍ대형 트럭이 코로나19 여파로 택배 등 물류 운송이 늘면서 ‘비대면 소비 특수’를 누렸다.23일 업계에 따르면 올해 1~4월 현대차 중ㆍ대형 트럭 판매는 8730대로 지난해 같은 기간보다 31.2% 증가했다.현대차 중형트럭‘마이</td></tr>\n",
       "<tr><td>27일(현지시간) 미국 서부텍사스원유(WTI) 선물 가격이 1% 올라 배럴당 67달러대에 다가섰다. 닷새째 상승했다. 미국 여름 휴가철을 앞두고 원유수요 증가 기대가 커진 가운데, 미 경제지표들이 서프라이즈를 연출해 유가가 상승 압력을 받았다.뉴욕상업거래소(NYMEX)에서 WTI 선물은 전장보다 64센트(0.97%) 높아진</td></tr>\n",
       "<tr><td>보험업계에서 공공 의료데이터 활용 요구가 높아지고 있지만 ‘영리활용 불가’라는 원칙에 가로막혀 지지부진한 상황이다. 지난해 개인을 알아볼 수 없게 가명처리된 정보를 활용할 수 있도록 이른바</td></tr>\n",
       "<tr><td>신종 코로나바이러스 감염증 (코로나19) 사태가 장기화함에 따라 경제 주체에 대한 금전적 보상을 제공할 필요가 있다는 주장이 나왔다. 방역수칙 위반에 대한 징벌적 조치에 앞서 금전적 보상을 통해 장기적 방역 활동의 유인을 만들어야 한다는 것이다. 이윤석 한국금융연구원 선임연구위원은 16일 ‘코로나19 장기화와 방역 활동에 대한 경제적 유인 제공’이라는 보고</td></tr>\n",
       "<tr><td>여기에 서산 바이오웰빙특구·서산테크노밸리가 이미 확정됐으며, 간월도 관광단지 개발사업이 연내 착공 예정이다. ㈜다울이 수도권에서 1시간 30분 거리인 서산시 부석면에서 합리적인 가격에 분양 중인 전원주택·타운하우스 부지(사진)로 전체면적이 2만6291㎡에 달한다. 이 부지는 간월도에서 5분 거리에 불과하고 왕</td></tr>\n",
       "<tr><td>삼성, LG 등 &#39;전자라인&#39;을 구축하고 있는 지역들에 이목이 집중되고 있다. 일자리 생성에 따른 주택 수요가 증가로 거래가 활발하게 이뤄지고 있는데다, 이들 지역에는 억 단위에서 많게는 조 단위의 대기업 투자까지 이뤄져 지역 가치가 크게 상승하고 있기</td></tr>\n",
       "<tr><td>[워싱턴=뉴시스]추상철 기자 = 문재인 대통령이 21일 오후(현지시간) 미국 워싱턴 백악관 이스트룸에서 조 바이든 미국 대통령과 공동기자회견을 하고 있다. 2021.05.22. scchoo@newsis.com 청와대가 이번 한미정상회담 공동성명에 들어간 &#39;대만 해협&#39; 문구를 두고 중국이 반발하는 데 대해 &quot;중국이 우리의 입장을 이해하고 있다&quot;고 진화했다.</td></tr>\n",
       "<tr><td>최근 강원도 평창군에서 진부면을 중심으로 여러 개발호재가 이어지고 있는 가운데, 공급예정인 동서건설(주)의 &#39;평창진부 웰라움 더퍼스트&#39;가 탁월한 미래가치를 누릴 것으로 주목받고 있다.특히, 이 단지가 들어서는 진부면은 명실상부한 AI기반의 미니신도시가 형성될 것으로 기대감이 높은 상황이다. 평창군은 지난달 진행한 업무협약식에서 인공지능(AI)이 도시를 총괄</td></tr>\n",
       "<tr><td>‘수소경제’는 저탄소 시대의 핵심 기술은 수소가 될 것이라는 가능성에 투자하는 정책이다. 여기에는 친환경 시대는 당연히 맞이하게 될 미래라는 인식이 전제로 깔려 있다. 다만 시장의 플레이어들은 여전히 불안..</td></tr>\n",
       "<tr><td>[서울=뉴스핌] 이영 섭 기자 = 이재용 삼성전자 부회장의 사면 여부를 놓고 국내외에서 사면 요청이 이어지고 있는 가운데 청와대도 사면에 긍정적인 쪽으로 기류가 변하고 있다. 한미 정상회담 과정에서 삼성을 비롯한 대기업들의 대규모 투자로 미국 측으로부터 백신 등을 얻어내게 되면서 재계의 역할이 중요해졌다는 판단인 것으로 풀이된다. 정치권에서는 8.15 사면</td></tr>\n",
       "<tr><td>테슬라 최고경영자(CEO) 일론 머스크의 여섯 철자 한 단어 트윗이 가상화폐 시장을 또 흔들었다. 테슬라가 현재 보유 중인 비트코인을 전량 처분할 것으로 전망하는 한 누리꾼의 트위터 글에 머스크가 댓글을 달았고, 그 직후 가상화폐 시장이 급락했기 때문이다. 블룸버그 통신은 16일(현지시간) 머스크가 비트코인 결제 중단에 이어 테슬라가 보유 중인 비트코인을</td></tr>\n",
       "<tr><td>`블록체인 전문가`로 불리는 금융감독원 부국장이 가상화폐 거래소로 이직하기 위해 사직서를 낸 것으로 확인됐다. 감독당국인 금감원 직원이 가상화폐 거래소로 자리를 옮기는 건 처음이다. 25일 금융권에 따르면 금감원 부국장인 A씨는 이</td></tr>\n",
       "<tr><td>★인플레 쇼크, 연준 양치기 소년 되다. 인플레 일시적 현상 한결같이 주장하지만 소비자물가 13년 만의 최고치 경신하며 또다시 시장 의심 증폭, 재닛 옐런 재무장관 말처럼 조기 금리 인상론 현실화 되나 다시 부각.- 하이퍼 인플레 시대 도래 공포 확산, 뉴욕증시 3대지수 일제히 급락. 다우지수 681.50P(1.99%) 하락 3만3587.66, S&amp;P500</td></tr></table>"
      ],
      "text/plain": [
       "<IPython.core.display.HTML object>"
      ]
     },
     "metadata": {},
     "output_type": "display_data"
    }
   ],
   "source": [
    "headers = {\"Ocp-Apim-Subscription-Key\" : subscription_key}\n",
    "params  = {\"q\": search_term[0], \"textDecorations\": True, \"textFormat\": \"HTML\"}\n",
    "\n",
    "# 요청보내고 응답받기\n",
    "response = requests.get(search_url, headers=headers, params=params)\n",
    "response.raise_for_status()\n",
    "search_results = json.dumps(response.json(), indent=4)\n",
    "search_results = json.loads(search_results)\n",
    "\n",
    "descriptions = [article[\"description\"] for article in search_results[\"value\"]]\n",
    "\n",
    "# HTML 출력\n",
    "rows = \"\\n\".join([\"<tr><td>{0}</td></tr>\".format(desc)\n",
    "                  for desc in descriptions])\n",
    "display(HTML(\"<table>\"+rows+\"</table>\"))\n",
    "\n",
    "# row 두개로 나눠서 저장\n",
    "rows1 = []\n",
    "rows2 = []\n",
    "DeLen = int(len(descriptions)/2)\n",
    "rows1 = \"\\n\".join([\"{0}\\n\".format(descriptions[i]) for i in range(DeLen)])\n",
    "rows2 = \"\\n\".join([\"{0}\\n\".format(descriptions[i+DeLen]) for i in range(DeLen)])\n",
    "\n",
    "# 명명된 엔터티 인식\n",
    "EntityList=[]\n",
    "entity_recognition_example(client)"
   ]
  },
  {
   "cell_type": "markdown",
   "metadata": {},
   "source": [
    "# Sector별 데이터 프레임 불러오기"
   ]
  },
  {
   "cell_type": "code",
   "execution_count": 6,
   "metadata": {},
   "outputs": [
    {
     "name": "stdout",
     "output_type": "stream",
     "text": [
      "[                  file_name  rate_value\n",
      "1  sector_semiconductor.csv    0.807263,             file_name  rate_value\n",
      "2  sector_battery.csv    1.122807,         file_name  rate_value\n",
      "3  sector_car.csv    1.019417,          file_name  rate_value\n",
      "4  sector_Baio.csv    0.478405,          file_name  rate_value\n",
      "5  sector_iron.csv    0.423237,          file_name  rate_value\n",
      "6  sector_bank.csv    0.574074]\n"
     ]
    }
   ],
   "source": [
    "weight_list=[]\n",
    "weight_acc_list=[]\n",
    "RateValue=[]\n",
    "all_data_frames=[]\n",
    "\n",
    "# 불러오기\n",
    "all_files = glob.glob(os.path.join(input_path, 'sector_*'))\n",
    "all_data_frame=[]\n",
    "for num,input_file in enumerate(all_files):\n",
    "    data_frame=pd.read_csv(input_file, index_col=None, encoding='CP949')\n",
    "    \n",
    "    # 이름 불러오기\n",
    "    total_name = [value for value in data_frame.loc[:,'phrase']]\n",
    "        \n",
    "    # 비교\n",
    "    count=0\n",
    "    for entity in EntityList:\n",
    "        for i,name in enumerate(total_name):\n",
    "            if entity == name:\n",
    "                count+=data_frame.loc[i,'weight']\n",
    "                    \n",
    "    # total 저장\n",
    "    total_weight = sum([value for value in data_frame.loc[:,'weight']]) # 누적\n",
    "    weight_list.append(count) # \n",
    "    weight_acc_list.append(total_weight)\n",
    "    RateValue.append(count/total_weight)\n",
    "    \n",
    "    # 데이터프레임화\n",
    "    data = {'file_name':os.path.basename(input_file),\n",
    "            'rate_value':count/total_weight}\n",
    "    all_data_frames.append(pd.DataFrame(data,index=[num+1]))\n",
    "    \n",
    "# 저장\n",
    "data_frames_concat = pd.concat(all_data_frames, axis=0, ignore_index=True)\n",
    "data_frames_concat.to_csv(output_file, index=False)\n",
    "\n",
    "# 출력\n",
    "print(all_data_frames)"
   ]
  },
  {
   "cell_type": "code",
   "execution_count": null,
   "metadata": {},
   "outputs": [],
   "source": []
  },
  {
   "cell_type": "code",
   "execution_count": null,
   "metadata": {},
   "outputs": [],
   "source": []
  }
 ],
 "metadata": {
  "kernelspec": {
   "display_name": "Python 3",
   "language": "python",
   "name": "python3"
  },
  "language_info": {
   "codemirror_mode": {
    "name": "ipython",
    "version": 3
   },
   "file_extension": ".py",
   "mimetype": "text/x-python",
   "name": "python",
   "nbconvert_exporter": "python",
   "pygments_lexer": "ipython3",
   "version": "3.8.3"
  }
 },
 "nbformat": 4,
 "nbformat_minor": 4
}
