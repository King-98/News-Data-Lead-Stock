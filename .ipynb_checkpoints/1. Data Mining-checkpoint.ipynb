{
 "cells": [
  {
   "cell_type": "markdown",
   "metadata": {},
   "source": [
    "# input"
   ]
  },
  {
   "cell_type": "code",
   "execution_count": 1,
   "metadata": {},
   "outputs": [],
   "source": [
    "# 이름\n",
    "search_term=[\"자동차주\", \"바이오주\", \n",
    "             \"배터리주\", \"철강주\", \"반도체주\",\n",
    "             \"증권주\"]\n",
    "\n",
    "# 파일이름\n",
    "file = [\"sector_car.csv\", \"sector_Baio.csv\",\n",
    "        \"sector_battery.csv\", \"sector_iron.csv\", \"sector_semiconductor.csv\",\n",
    "        \"sector_bank.csv\"]"
   ]
  },
  {
   "cell_type": "markdown",
   "metadata": {},
   "source": [
    "# import"
   ]
  },
  {
   "cell_type": "code",
   "execution_count": 2,
   "metadata": {},
   "outputs": [],
   "source": [
    "import json\n",
    "import requests\n",
    "from IPython.display import HTML\n",
    "import numpy\n",
    "\n",
    "from azure.ai.textanalytics import TextAnalyticsClient\n",
    "from azure.core.credentials import AzureKeyCredential\n",
    "\n",
    "import pandas as pd\n",
    "import glob\n",
    "import os\n",
    "import sys"
   ]
  },
  {
   "cell_type": "markdown",
   "metadata": {},
   "source": [
    "# Authorization"
   ]
  },
  {
   "cell_type": "code",
   "execution_count": 3,
   "metadata": {},
   "outputs": [],
   "source": [
    "# (Bing news Search)애플리케이션 생성 및 초기화\n",
    "search_url = \"https://api.bing.microsoft.com/v7.0/news/search?q=sailing&count=40&freshness=Day\"\n",
    "\n",
    "# Bing news Search key\n",
    "subscription_key = \"[Bing News Search key]\"\n",
    "\n",
    "# (Text_Analisis)클라이언트 인증\n",
    "key = \"[Text Analitics key]\"\n",
    "endpoint = \"https://textanalysis-2.cognitiveservices.azure.com/\"\n",
    "\n",
    "def authenticate_client():\n",
    "    ta_credential = AzureKeyCredential(key)\n",
    "    text_analytics_client = TextAnalyticsClient(\n",
    "            endpoint=endpoint, \n",
    "            credential=ta_credential)\n",
    "    return text_analytics_client\n",
    "\n",
    "client = authenticate_client()"
   ]
  },
  {
   "cell_type": "markdown",
   "metadata": {},
   "source": [
    "# entity List"
   ]
  },
  {
   "cell_type": "code",
   "execution_count": 4,
   "metadata": {},
   "outputs": [],
   "source": [
    "def entity_recognition_example(client):\n",
    "\n",
    "    try:\n",
    "        documents = [\"\"]\n",
    "        documents[0]+=rows1\n",
    "        result1 = client.recognize_entities(documents = documents, language=\"ko\")[0]\n",
    "        \n",
    "        documents = [\"\"]\n",
    "        documents[0]+=rows2\n",
    "        result2 = client.recognize_entities(documents = documents, language=\"ko\")[0]\n",
    "\n",
    "        for entity in result1.entities:\n",
    "            EntityList.append(entity.text)\n",
    "            \n",
    "        for entity in result2.entities:\n",
    "            EntityList.append(entity.text)\n",
    "            \n",
    "    except Exception as err:\n",
    "        print(\"Encountered exception. {}\".format(err))"
   ]
  },
  {
   "cell_type": "markdown",
   "metadata": {},
   "source": [
    "# 반복문"
   ]
  },
  {
   "cell_type": "code",
   "execution_count": 5,
   "metadata": {},
   "outputs": [
    {
     "name": "stdout",
     "output_type": "stream",
     "text": [
      "Encountered exception. 'DocumentError' object has no attribute 'entities'. The service was unable to process this document:\n",
      "Document Id: 0\n",
      "Error: InvalidDocument - Document text is empty.\n",
      "\n",
      "1 . 자동차주 완료\n",
      "2 . 바이오주 완료\n",
      "Encountered exception. 'DocumentError' object has no attribute 'entities'. The service was unable to process this document:\n",
      "Document Id: 0\n",
      "Error: InvalidDocument - Document text is empty.\n",
      "\n",
      "3 . 배터리주 완료\n",
      "Encountered exception. 'DocumentError' object has no attribute 'entities'. The service was unable to process this document:\n",
      "Document Id: 0\n",
      "Error: InvalidDocument - Document text is empty.\n",
      "\n",
      "4 . 철강주 완료\n",
      "5 . 반도체주 완료\n",
      "Encountered exception. 'DocumentError' object has no attribute 'entities'. The service was unable to process this document:\n",
      "Document Id: 0\n",
      "Error: InvalidDocument - Document text is empty.\n",
      "\n",
      "6 . 증권주 완료\n"
     ]
    }
   ],
   "source": [
    "for sec in range(len(search_term)):\n",
    "    # 요청에 대한 매개변수 만들기\n",
    "    headers = {\"Ocp-Apim-Subscription-Key\" : subscription_key}\n",
    "    params  = {\"q\": search_term[sec], \"textDecorations\": True, \"textFormat\": \"HTML\"}\n",
    "\n",
    "    # 요청보내고 응답받기\n",
    "    response = requests.get(search_url, headers=headers, params=params)\n",
    "    response.raise_for_status()\n",
    "    search_results = json.dumps(response.json(), indent=4)\n",
    "    search_results = json.loads(search_results)\n",
    "\n",
    "    descriptions = [article[\"description\"] for article in search_results[\"value\"]]\n",
    "\n",
    "    # row 두개로 나눠서 저장\n",
    "    rows1 = []\n",
    "    rows2 = []\n",
    "    DeLen = int(len(descriptions)/2)\n",
    "    rows1 = \"\\n\".join([\"{0}\\n\".format(descriptions[i]) for i in range(DeLen)])\n",
    "    rows2 = \"\\n\".join([\"{0}\\n\".format(descriptions[i+DeLen]) for i in range(DeLen)])\n",
    "\n",
    "    # 명명된 엔터티 인식\n",
    "    EntityList=[]\n",
    "    entity_recognition_example(client)\n",
    "\n",
    "    data_frame = pd.read_csv(file[sec], encoding='CP949')\n",
    "    data_frame = data_frame.dropna(axis=0)\n",
    "\n",
    "    # 저장\n",
    "    for entity in EntityList:\n",
    "        count=0\n",
    "        \n",
    "        # 한자리인거 띄우기\n",
    "        if len(entity)<=1 or entity==\"기자\":\n",
    "            continue\n",
    "        \n",
    "        for i, phrase in enumerate(data_frame['phrase']):\n",
    "            if(phrase==entity.upper()):\n",
    "                weight=data_frame.iloc[i]['weight']\n",
    "                weight+=1\n",
    "                data_frame.loc[i]=[phrase,weight]\n",
    "                count+=1\n",
    "        if(count==0):\n",
    "            data_frame=data_frame.append({'phrase':entity.upper(), 'weight':1},ignore_index=True)\n",
    "\n",
    "    data_frame.to_csv(file[sec], index=False, encoding='CP949')\n",
    "    \n",
    "    print(sec+1, \".\", search_term[sec], \"완료\")"
   ]
  },
  {
   "cell_type": "code",
   "execution_count": null,
   "metadata": {},
   "outputs": [],
   "source": []
  },
  {
   "cell_type": "code",
   "execution_count": null,
   "metadata": {},
   "outputs": [],
   "source": []
  }
 ],
 "metadata": {
  "kernelspec": {
   "display_name": "Python 3",
   "language": "python",
   "name": "python3"
  },
  "language_info": {
   "codemirror_mode": {
    "name": "ipython",
    "version": 3
   },
   "file_extension": ".py",
   "mimetype": "text/x-python",
   "name": "python",
   "nbconvert_exporter": "python",
   "pygments_lexer": "ipython3",
   "version": "3.8.3"
  }
 },
 "nbformat": 4,
 "nbformat_minor": 4
}
